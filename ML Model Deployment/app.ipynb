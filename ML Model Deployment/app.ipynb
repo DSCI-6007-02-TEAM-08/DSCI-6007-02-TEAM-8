{
 "cells": [
  {
   "cell_type": "code",
   "execution_count": null,
   "id": "60e59cb2",
   "metadata": {},
   "outputs": [
    {
     "name": "stdout",
     "output_type": "stream",
     "text": [
      " * Serving Flask app \"__main__\" (lazy loading)\n",
      " * Environment: production\n",
      "\u001b[31m   WARNING: This is a development server. Do not use it in a production deployment.\u001b[0m\n",
      "\u001b[2m   Use a production WSGI server instead.\u001b[0m\n",
      " * Debug mode: off\n"
     ]
    },
    {
     "name": "stderr",
     "output_type": "stream",
     "text": [
      " * Running on all addresses.\n",
      "   WARNING: This is a development server. Do not use it in a production deployment.\n",
      " * Running on http://10.0.0.104:8000/ (Press CTRL+C to quit)\n",
      "10.0.0.104 - - [05/Dec/2023 14:03:41] \"GET / HTTP/1.1\" 200 -\n",
      "10.0.0.104 - - [05/Dec/2023 14:03:41] \"GET /your-image-url.jpg HTTP/1.1\" 404 -\n",
      "10.0.0.104 - - [05/Dec/2023 14:03:41] \"GET /favicon.ico HTTP/1.1\" 404 -\n",
      "10.0.0.104 - - [05/Dec/2023 14:05:04] \"POST /predict HTTP/1.1\" 200 -\n",
      "10.0.0.104 - - [05/Dec/2023 14:05:04] \"GET /your-image-url.jpg HTTP/1.1\" 404 -\n",
      "10.0.0.23 - - [05/Dec/2023 14:07:58] \"GET / HTTP/1.1\" 200 -\n",
      "10.0.0.23 - - [05/Dec/2023 14:07:59] \"GET /your-image-url.jpg HTTP/1.1\" 404 -\n",
      "10.0.0.23 - - [05/Dec/2023 14:07:59] \"GET /favicon.ico HTTP/1.1\" 404 -\n",
      "10.0.0.23 - - [05/Dec/2023 14:12:01] \"POST /predict HTTP/1.1\" 200 -\n",
      "10.0.0.23 - - [05/Dec/2023 14:12:01] \"GET /your-image-url.jpg HTTP/1.1\" 404 -\n",
      "10.0.0.104 - - [05/Dec/2023 14:23:57] \"GET / HTTP/1.1\" 200 -\n",
      "10.0.0.104 - - [05/Dec/2023 14:23:57] \"GET /your-image-url.jpg HTTP/1.1\" 404 -\n"
     ]
    }
   ],
   "source": [
    "import numpy as np\n",
    "from flask import Flask, request, jsonify, render_template\n",
    "import pickle\n",
    "\n",
    "# Create flask app\n",
    "flask_app = Flask(__name__)\n",
    "model = pickle.load(open(\"Model.pkl\", \"rb\"))\n",
    "\n",
    "@flask_app.route(\"/\")\n",
    "def Home():\n",
    "    return render_template(\"index.html\")\n",
    "\n",
    "@flask_app.route(\"/predict\", methods = [\"POST\"])\n",
    "def predict():\n",
    "    float_features = [float(x) for x in request.form.values()]\n",
    "    features = [np.array(float_features)]\n",
    "    prediction = model.predict(features)\n",
    "    return render_template(\"index.html\", prediction_text = \"The Flight ticket Fare is {}\".format(prediction))\n",
    "\n",
    "if __name__ == \"__main__\":\n",
    "    flask_app.run(host='0.0.0.0', port=8000)"
   ]
  },
  {
   "cell_type": "code",
   "execution_count": null,
   "id": "8875434d",
   "metadata": {},
   "outputs": [],
   "source": []
  }
 ],
 "metadata": {
  "kernelspec": {
   "display_name": "Python 3 (ipykernel)",
   "language": "python",
   "name": "python3"
  },
  "language_info": {
   "codemirror_mode": {
    "name": "ipython",
    "version": 3
   },
   "file_extension": ".py",
   "mimetype": "text/x-python",
   "name": "python",
   "nbconvert_exporter": "python",
   "pygments_lexer": "ipython3",
   "version": "3.9.13"
  }
 },
 "nbformat": 4,
 "nbformat_minor": 5
}
